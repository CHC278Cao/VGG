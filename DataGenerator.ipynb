{
 "cells": [
  {
   "cell_type": "code",
   "execution_count": null,
   "metadata": {},
   "outputs": [],
   "source": [
    "from tensorflow as tf\n",
    "import numpy as np\n",
    "from tensorflow.python.framework import dtypes \n",
    "from tensorflow.python.framework.ops import convert_to_tensor\n",
    "\n",
    "\n",
    "img_mean = tf.constant([123.68, 116.779, 103.939], dtype = tf.float32)\n",
    "\n",
    "class DataGeneraotr(object):\n",
    "    def __init__(self, textfile, num_classes, batch_size):\n",
    "        self.textfile = textfile\n",
    "        self.num_classes = num_classes\n",
    "        self.batch_size = batch_size\n",
    "        self._read_text_file()\n",
    "        self.num_samples = len(self.label)\n",
    "        self.img_batch, self.label_batch = self._image_decode()\n",
    "        \n",
    "        \n",
    "    def _read_text_file(self):\n",
    "        self.imgpath = []\n",
    "        self.label = []\n",
    "        with open(self.textfile, \"r\") as f:\n",
    "            lines = f.readlines()\n",
    "            for data in lines:\n",
    "                # the rule for spliting depends on how data are stored\n",
    "                imgpath, label = lines.split(\" \")\n",
    "                self.imgpath.append(imgpath)\n",
    "                self.label.append(label)\n",
    "            \n",
    "    def _image_decode(self):\n",
    "        # connvert imgpath and label into tensor\n",
    "        img = tf.convert_to_tensor(self.imgpath, dtype = dtypes.float32)\n",
    "        label = tf.convert_to_tensor(self.label, dtype = dtypes.int32)\n",
    "        # create input queues\n",
    "        file_queue = tf.train.slice_input_producer([self.imgpath, self.labelfile], shuffle = Flase)\n",
    "        # process a file in queue into a image and label\n",
    "        file_content = tf.read_file(file_queue[0])\n",
    "        # decode_*** depends the type of img(png, jpg...), channel depends on RGB or ..\n",
    "        img_data = tf.image.decode_png(file_content, channel = 3)\n",
    "        img = tf.image.resize(img_data, shape = [224, 224])\n",
    "        img_normal = tf.subtract(img, img_mean)\n",
    "        # convert RGB to BGR\n",
    "        img_bgr = img_normal[:, :, ::-1]\n",
    "        # get one-hot label\n",
    "        label = tf.one_hot(file_queue[1], self.num_classes, dtype = tf.unit8)\n",
    "        # shuffle the data and label, capacity means an maximum number of data, depends on the \n",
    "        # min_after_dequeue mean minimum number of data after dequeue\n",
    "        img_batch, label_batch = tf.train.shuffle_batch([img_bgr, label], batch_size = self.batch_size,\n",
    "                                                       capacity = self.num_sampels, min_after_dequeue = 1000)\n",
    "        return img_batch, label_batch\n",
    "    "
   ]
  }
 ],
 "metadata": {
  "kernelspec": {
   "display_name": "Python 3",
   "language": "python",
   "name": "python3"
  },
  "language_info": {
   "codemirror_mode": {
    "name": "ipython",
    "version": 3
   },
   "file_extension": ".py",
   "mimetype": "text/x-python",
   "name": "python",
   "nbconvert_exporter": "python",
   "pygments_lexer": "ipython3",
   "version": "3.6.4"
  }
 },
 "nbformat": 4,
 "nbformat_minor": 2
}
